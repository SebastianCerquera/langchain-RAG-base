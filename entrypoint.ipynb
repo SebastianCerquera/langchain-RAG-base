{
 "cells": [
  {
   "cell_type": "code",
   "execution_count": null,
   "id": "6bfc1a9e-a379-43dc-9a7f-626574969a66",
   "metadata": {},
   "outputs": [],
   "source": [
    "LLM_MODEL_NAME = \"gemma\"\n",
    "EMBEDDING_MODEL_NAME = \"nomic-embed-text\""
   ]
  },
  {
   "cell_type": "code",
   "execution_count": null,
   "id": "ce332337-9709-4140-bd01-e045393732ab",
   "metadata": {},
   "outputs": [],
   "source": []
  },
  {
   "cell_type": "code",
   "execution_count": null,
   "id": "05697645-1b6d-4096-9d15-2d354916e449",
   "metadata": {},
   "outputs": [],
   "source": [
    "from langchain_community.llms import Ollama\n",
    "from langchain_community.embeddings import OllamaEmbeddings\n",
    "from langchain.text_splitter import RecursiveCharacterTextSplitter\n",
    "from langchain_community.vectorstores import Chroma\n",
    "\n",
    "from models import check_if_model_is_available\n",
    "from document_loader import load_documents\n",
    "import argparse\n",
    "import sys\n",
    "\n",
    "import os\n",
    "\n",
    "from llm import getChatChain"
   ]
  },
  {
   "cell_type": "code",
   "execution_count": null,
   "id": "1b480478-a848-4c6c-9416-50ab9f0d7ebf",
   "metadata": {},
   "outputs": [],
   "source": []
  },
  {
   "cell_type": "code",
   "execution_count": null,
   "id": "085fa076-d192-4176-97cb-636785989842",
   "metadata": {},
   "outputs": [],
   "source": [
    "check_if_model_is_available(LLM_MODEL_NAME)\n",
    "check_if_model_is_available(EMBEDDING_MODEL_NAME)"
   ]
  },
  {
   "cell_type": "code",
   "execution_count": null,
   "id": "b78ca031-5591-48cd-ab1d-d8eb79bd042a",
   "metadata": {},
   "outputs": [],
   "source": []
  },
  {
   "cell_type": "code",
   "execution_count": null,
   "id": "acc1639c-443e-4036-a9c5-1eeab56cedf5",
   "metadata": {},
   "outputs": [],
   "source": [
    "llm = Ollama(model=LLM_MODEL_NAME)\n",
    "llm.base_url = os.environ[\"OLLAMA_HOST\"]\n",
    "\n",
    "embeddings = OllamaEmbeddings(model=EMBEDDING_MODEL_NAME)\n",
    "embeddings.base_url = os.environ[\"OLLAMA_HOST\"]\n",
    "\n",
    "db = Chroma(persist_directory=\"/var/pdf_sources_embeddings\", embedding_function=embeddings)\n",
    "\n",
    "chat = getChatChain(llm, db)"
   ]
  },
  {
   "cell_type": "code",
   "execution_count": null,
   "id": "9d2f19bd-9d7c-422b-a45f-975bf20cc673",
   "metadata": {},
   "outputs": [],
   "source": []
  },
  {
   "cell_type": "code",
   "execution_count": null,
   "id": "055f9ab4-8e17-4f99-8414-ba70dd66319b",
   "metadata": {},
   "outputs": [],
   "source": [
    "chat(\"What are the main neurotransmiter systems in the human brain?\")"
   ]
  },
  {
   "cell_type": "code",
   "execution_count": null,
   "id": "30aaec59-5a27-445d-97e8-e47d027012d8",
   "metadata": {},
   "outputs": [],
   "source": []
  }
 ],
 "metadata": {
  "kernelspec": {
   "display_name": "Python 3 (ipykernel)",
   "language": "python",
   "name": "python3"
  },
  "language_info": {
   "codemirror_mode": {
    "name": "ipython",
    "version": 3
   },
   "file_extension": ".py",
   "mimetype": "text/x-python",
   "name": "python",
   "nbconvert_exporter": "python",
   "pygments_lexer": "ipython3",
   "version": "3.10.12"
  }
 },
 "nbformat": 4,
 "nbformat_minor": 5
}
